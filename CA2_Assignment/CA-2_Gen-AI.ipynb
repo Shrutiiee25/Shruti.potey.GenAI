{
 "cells": [
  {
   "cell_type": "code",
   "execution_count": 8,
   "id": "92e7a716-fe90-4182-b34c-b65e8168ae54",
   "metadata": {},
   "outputs": [],
   "source": [
    "#Q:1 Generate a model in Python for representation of a bank account of type savings and balance along with transactions of deposit and withdrawals and \n",
    "#currently create a program to generate 100 accounts with Random balance and transactions for no. of months and no. of transactions with a seed value \n",
    "#of amount. Print all 100 accounts with the last balance and organize them by lowest to highest balance."
   ]
  },
  {
   "cell_type": "code",
   "execution_count": 1,
   "id": "87c6088b-b4e5-4a59-979e-d7146dd942ec",
   "metadata": {},
   "outputs": [],
   "source": [
    "import random"
   ]
  },
  {
   "cell_type": "code",
   "execution_count": 2,
   "id": "d1f929f1-6c79-4e21-a833-bf1751df497b",
   "metadata": {},
   "outputs": [],
   "source": [
    "# Define the BankAccount class\n",
    "class BankAccount:\n",
    "    def __init__(self, account_id, balance=0):\n",
    "        self.account_id = account_id\n",
    "        self.balance = balance\n",
    "        self.transactions = []\n",
    "\n",
    "    def deposit(self, amount):\n",
    "        self.balance += amount\n",
    "        self.transactions.append(f\"Deposit: +{amount}\")\n",
    "\n",
    "    def withdraw(self, amount):\n",
    "        if amount <= self.balance:\n",
    "            self.balance -= amount\n",
    "            self.transactions.append(f\"Withdrawal: -{amount}\")\n",
    "        else:\n",
    "            self.transactions.append(f\"Failed Withdrawal: -{amount} (Insufficient funds)\")\n",
    "\n",
    "    def __repr__(self):\n",
    "        return f\"Account ID: {self.account_id}, Final Balance: {self.balance}\""
   ]
  },
  {
   "cell_type": "code",
   "execution_count": 3,
   "id": "04eccd0b-dd95-4b84-a7b0-93c79e0aca3e",
   "metadata": {},
   "outputs": [],
   "source": [
    "# Function to generate random transactions for an account\n",
    "def generate_transactions(account, months, num_transactions, seed_amount):\n",
    "    for _ in range(months * num_transactions):\n",
    "        # Randomly decide to deposit or withdraw\n",
    "        if random.choice([True, False]):\n",
    "            deposit_amount = random.randint(1, seed_amount)\n",
    "            account.deposit(deposit_amount)  # Correct usage of deposit method\n",
    "        else:\n",
    "            withdrawal_amount = random.randint(1, seed_amount)\n",
    "            account.withdraw(withdrawal_amount)  # Correct usage of withdraw method"
   ]
  },
  {
   "cell_type": "code",
   "execution_count": 4,
   "id": "fdcfaa50-7145-4b7e-bf60-f49a4416c3a9",
   "metadata": {},
   "outputs": [],
   "source": [
    "# Function to create 100 random bank accounts\n",
    "def create_accounts(num_accounts=100, seed_amount=1000, months=6, num_transactions=10):\n",
    "    accounts = []\n",
    "    for account_id in range(1, num_accounts + 1):\n",
    "        initial_balance = random.randint(0, seed_amount)\n",
    "        account = BankAccount(account_id, initial_balance)\n",
    "        generate_transactions(account, months, num_transactions, seed_amount)\n",
    "        accounts.append(account)\n",
    "    \n",
    "    # Sort accounts by balance (ascending)\n",
    "    sorted_accounts = sorted(accounts, key=lambda x: x.balance)\n",
    "    \n",
    "    # Print all accounts with final balance\n",
    "    for acc in sorted_accounts:\n",
    "        print(acc)"
   ]
  },
  {
   "cell_type": "code",
   "execution_count": 5,
   "id": "18c588a5-a7de-440a-ad7a-85bec2f128b3",
   "metadata": {},
   "outputs": [],
   "source": [
    "# Set seed for reproducibility\n",
    "random.seed(42)"
   ]
  },
  {
   "cell_type": "code",
   "execution_count": 6,
   "id": "941f82e9-f3d7-4ee6-b490-5cc369d8fd95",
   "metadata": {},
   "outputs": [
    {
     "name": "stdout",
     "output_type": "stream",
     "text": [
      "Account ID: 72, Final Balance: 93\n",
      "Account ID: 58, Final Balance: 358\n",
      "Account ID: 56, Final Balance: 374\n",
      "Account ID: 25, Final Balance: 384\n",
      "Account ID: 10, Final Balance: 449\n",
      "Account ID: 36, Final Balance: 602\n",
      "Account ID: 92, Final Balance: 664\n",
      "Account ID: 42, Final Balance: 730\n",
      "Account ID: 17, Final Balance: 749\n",
      "Account ID: 89, Final Balance: 782\n",
      "Account ID: 76, Final Balance: 835\n",
      "Account ID: 84, Final Balance: 872\n",
      "Account ID: 47, Final Balance: 873\n",
      "Account ID: 87, Final Balance: 914\n",
      "Account ID: 64, Final Balance: 949\n",
      "Account ID: 35, Final Balance: 977\n",
      "Account ID: 55, Final Balance: 1010\n",
      "Account ID: 68, Final Balance: 1045\n",
      "Account ID: 11, Final Balance: 1051\n",
      "Account ID: 39, Final Balance: 1180\n",
      "Account ID: 40, Final Balance: 1193\n",
      "Account ID: 49, Final Balance: 1265\n",
      "Account ID: 52, Final Balance: 1314\n",
      "Account ID: 100, Final Balance: 1318\n",
      "Account ID: 69, Final Balance: 1356\n",
      "Account ID: 75, Final Balance: 1372\n",
      "Account ID: 48, Final Balance: 1695\n",
      "Account ID: 57, Final Balance: 1699\n",
      "Account ID: 66, Final Balance: 1708\n",
      "Account ID: 21, Final Balance: 1773\n",
      "Account ID: 63, Final Balance: 2038\n",
      "Account ID: 18, Final Balance: 2060\n",
      "Account ID: 19, Final Balance: 2074\n",
      "Account ID: 94, Final Balance: 2077\n",
      "Account ID: 33, Final Balance: 2186\n",
      "Account ID: 97, Final Balance: 2290\n",
      "Account ID: 23, Final Balance: 2317\n",
      "Account ID: 70, Final Balance: 2366\n",
      "Account ID: 14, Final Balance: 2444\n",
      "Account ID: 65, Final Balance: 2522\n",
      "Account ID: 77, Final Balance: 2738\n",
      "Account ID: 7, Final Balance: 2802\n",
      "Account ID: 26, Final Balance: 2805\n",
      "Account ID: 5, Final Balance: 2826\n",
      "Account ID: 71, Final Balance: 2827\n",
      "Account ID: 50, Final Balance: 2839\n",
      "Account ID: 30, Final Balance: 2909\n",
      "Account ID: 31, Final Balance: 2926\n",
      "Account ID: 8, Final Balance: 2939\n",
      "Account ID: 27, Final Balance: 2988\n",
      "Account ID: 32, Final Balance: 2995\n",
      "Account ID: 74, Final Balance: 3167\n",
      "Account ID: 98, Final Balance: 3189\n",
      "Account ID: 28, Final Balance: 3193\n",
      "Account ID: 83, Final Balance: 3205\n",
      "Account ID: 15, Final Balance: 3248\n",
      "Account ID: 13, Final Balance: 3268\n",
      "Account ID: 59, Final Balance: 3282\n",
      "Account ID: 88, Final Balance: 3316\n",
      "Account ID: 93, Final Balance: 3344\n",
      "Account ID: 53, Final Balance: 3364\n",
      "Account ID: 34, Final Balance: 3394\n",
      "Account ID: 54, Final Balance: 3399\n",
      "Account ID: 51, Final Balance: 3434\n",
      "Account ID: 1, Final Balance: 3545\n",
      "Account ID: 73, Final Balance: 4025\n",
      "Account ID: 44, Final Balance: 4147\n",
      "Account ID: 9, Final Balance: 4223\n",
      "Account ID: 82, Final Balance: 4293\n",
      "Account ID: 95, Final Balance: 4307\n",
      "Account ID: 38, Final Balance: 4383\n",
      "Account ID: 81, Final Balance: 4383\n",
      "Account ID: 79, Final Balance: 4445\n",
      "Account ID: 80, Final Balance: 4518\n",
      "Account ID: 86, Final Balance: 4520\n",
      "Account ID: 3, Final Balance: 4795\n",
      "Account ID: 16, Final Balance: 4935\n",
      "Account ID: 78, Final Balance: 5138\n",
      "Account ID: 2, Final Balance: 5203\n",
      "Account ID: 29, Final Balance: 5239\n",
      "Account ID: 37, Final Balance: 5408\n",
      "Account ID: 46, Final Balance: 5715\n",
      "Account ID: 43, Final Balance: 6021\n",
      "Account ID: 91, Final Balance: 6191\n",
      "Account ID: 90, Final Balance: 6208\n",
      "Account ID: 99, Final Balance: 6244\n",
      "Account ID: 85, Final Balance: 6652\n",
      "Account ID: 20, Final Balance: 6803\n",
      "Account ID: 96, Final Balance: 7114\n",
      "Account ID: 61, Final Balance: 7141\n",
      "Account ID: 12, Final Balance: 7186\n",
      "Account ID: 22, Final Balance: 7214\n",
      "Account ID: 24, Final Balance: 7332\n",
      "Account ID: 60, Final Balance: 7892\n",
      "Account ID: 6, Final Balance: 8324\n",
      "Account ID: 45, Final Balance: 8629\n",
      "Account ID: 41, Final Balance: 8835\n",
      "Account ID: 4, Final Balance: 9914\n",
      "Account ID: 62, Final Balance: 10520\n",
      "Account ID: 67, Final Balance: 13039\n"
     ]
    }
   ],
   "source": [
    "# Generate 100 accounts with random balance and transactions\n",
    "create_accounts()"
   ]
  },
  {
   "cell_type": "code",
   "execution_count": 7,
   "id": "e321d8d5-3bfd-4a6a-b76b-269c72852e7d",
   "metadata": {},
   "outputs": [],
   "source": [
    "#Q:3 Generate a model for an insurance company to hold information on the insurer's vehicle, and create a chart of monthly, yearly, and quterly \n",
    "#premiums based on no. of years of insurance where in each year, the value of the vehicle depreciates by 7%."
   ]
  },
  {
   "cell_type": "code",
   "execution_count": 2,
   "id": "b250d8f0-1a2a-471f-873f-87d7b7edfbb9",
   "metadata": {},
   "outputs": [],
   "source": [
    "import matplotlib.pyplot as plt"
   ]
  },
  {
   "cell_type": "code",
   "execution_count": 3,
   "id": "e2651ae9-b655-41df-bc97-a2d3afcfe7d7",
   "metadata": {},
   "outputs": [],
   "source": [
    "class VehicleInsurance:\n",
    "    def __init__(self, owner_name, vehicle_value, insurance_years, annual_premium_rate):\n",
    "        self.owner_name = owner_name\n",
    "        self.initial_value = vehicle_value\n",
    "        self.current_value = vehicle_value\n",
    "        self.insurance_years = insurance_years\n",
    "        self.annual_premium_rate = annual_premium_rate\n",
    "        self.premiums = {}\n",
    " \n",
    "    def calculate_depreciation(self):\n",
    "        for year in range(1, self.insurance_years + 1):\n",
    "            depreciation = self.current_value * 0.07  # 7% depreciation each year\n",
    "            self.current_value -= depreciation\n",
    "            annual_premium = self.current_value * self.annual_premium_rate / 100\n",
    "            monthly_premium = annual_premium / 12\n",
    "            quarterly_premium = annual_premium / 4\n",
    "            self.premiums[year] = {\n",
    "                \"Annual\": annual_premium,\n",
    "                \"Quarterly\": quarterly_premium,\n",
    "                \"Monthly\": monthly_premium\n",
    "            }\n",
    " \n",
    "    def display_premiums(self):\n",
    "        print(f\"Premiums for {self.owner_name}'s vehicle:\")\n",
    "        for year, premium in self.premiums.items():\n",
    "            print(f\"Year {year}: Annual: {premium['Annual']:.2f}, Quarterly: {premium['Quarterly']:.2f}, Monthly: {premium['Monthly']:.2f}\")\n",
    "    \n",
    "    def plot_premiums(self):\n",
    "        years = list(self.premiums.keys())\n",
    "        annual_premiums = [self.premiums[year]['Annual'] for year in years]\n",
    "        quarterly_premiums = [self.premiums[year]['Quarterly'] for year in years]\n",
    "        monthly_premiums = [self.premiums[year]['Monthly'] for year in years]\n",
    " \n",
    "        plt.plot(years, annual_premiums, label='Annual Premium')\n",
    "        plt.plot(years, quarterly_premiums, label='Quarterly Premium', linestyle='--')\n",
    "        plt.plot(years, monthly_premiums, label='Monthly Premium', linestyle=':')\n",
    "        plt.xlabel('Years')\n",
    "        plt.ylabel('Premium Amount')\n",
    "        plt.title('Vehicle Insurance Premium Over Time')\n",
    "        plt.legend()\n",
    "        plt.show()"
   ]
  },
  {
   "cell_type": "code",
   "execution_count": 4,
   "id": "5e98ff8d-723e-4bce-9c81-ac8f4b9b4dc1",
   "metadata": {},
   "outputs": [
    {
     "name": "stdout",
     "output_type": "stream",
     "text": [
      "Premiums for John Doe's vehicle:\n",
      "Year 1: Annual: 23250.00, Quarterly: 5812.50, Monthly: 1937.50\n",
      "Year 2: Annual: 21622.50, Quarterly: 5405.62, Monthly: 1801.88\n",
      "Year 3: Annual: 20108.92, Quarterly: 5027.23, Monthly: 1675.74\n",
      "Year 4: Annual: 18701.30, Quarterly: 4675.33, Monthly: 1558.44\n",
      "Year 5: Annual: 17392.21, Quarterly: 4348.05, Monthly: 1449.35\n"
     ]
    },
    {
     "data": {
      "image/png": "[encoded data removed]",
      "text/plain": [
       "<Figure size 640x480 with 1 Axes>"
      ]
     },
     "metadata": {},
     "output_type": "display_data"
    }
   ],
   "source": [
    "# Example usage\n",
    "vehicle_insurance = VehicleInsurance(owner_name=\"John Doe\", vehicle_value=500000, insurance_years=5, annual_premium_rate=5)\n",
    "vehicle_insurance.calculate_depreciation()\n",
    "vehicle_insurance.display_premiums()\n",
    "vehicle_insurance.plot_premiums()"
   ]
  }
 ],
 "metadata": {
  "kernelspec": {
   "display_name": "Python 3 (ipykernel)",
   "language": "python",
   "name": "python3"
  },
  "language_info": {
   "codemirror_mode": {
    "name": "ipython",
    "version": 3
   },
   "file_extension": ".py",
   "mimetype": "text/x-python",
   "name": "python",
   "nbconvert_exporter": "python",
   "pygments_lexer": "ipython3",
   "version": "3.11.7"
  }
 },
 "nbformat": 4,
 "nbformat_minor": 5
}
